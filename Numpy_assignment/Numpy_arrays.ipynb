{
  "nbformat": 4,
  "nbformat_minor": 0,
  "metadata": {
    "colab": {
      "name": "Numpy_arrays.ipynb",
      "version": "0.3.2",
      "provenance": [],
      "collapsed_sections": []
    },
    "kernelspec": {
      "name": "python3",
      "display_name": "Python 3"
    }
  },
  "cells": [
    {
      "cell_type": "code",
      "metadata": {
        "id": "pLIihYtcWysV",
        "colab_type": "code",
        "outputId": "abd1f518-a5fb-4ae1-d9ad-9d7de3811c27",
        "colab": {
          "base_uri": "https://localhost:8080/",
          "height": 999
        }
      },
      "source": [
        "from __future__ import print_function\n",
        "import numpy as np \n",
        "\n",
        "\n",
        "#Create n-dimentional array \n",
        "\n",
        "#1D array\n",
        "data_1 = [1,2,3,4,5]\n",
        "arr1 = np.array(data_1)\n",
        "print(\"1D array: \", arr1)\n",
        "\n",
        "\n",
        "\n",
        "#2D array\n",
        "data_2 = [range(1,5), range(5,9)] \n",
        "arr2 = np.array(data_2) \n",
        "print(\"2D array: \", arr2) #[[1 2 3 4] [5 6 7 8]]\n",
        "print(\"2D array as list:  \", arr2.tolist()) #[[1 2 3 4], [5 6 7 8]] converting an array to list\n",
        "\n",
        "\n",
        "#3D array\n",
        "data_3 = [range(1,5), range(5,9), range(9,13)] \n",
        "arr3 = np.array(data_3) \n",
        "print(\"3D array: \", arr3) \n",
        "print(\"3D array as list \", arr3.tolist()) \n",
        "\n",
        "\n",
        "\n",
        "\n",
        "#Create Special array \n",
        "\n",
        "\n",
        "\n",
        "print(\"np.zeros(10): \",np.zeros(10)  ) # prints a non empty array with value 0\n",
        "print(\"np.zeros((3,6))\", np.zeros((3,6))) #prints a 3*6 matix with zeros\n",
        "print(\"np.ones(10): \", np.ones(10)  ) # prints a non empty array with value 1\n",
        "print(\"np.linspace(0,1,5): \",np.linspace(0,1,5)) # prints the values between 0 to 1 with 5 intervals\n",
        "print(\"np.logspace(0,3,4): \",np.logspace(0,3,5)) #10̈́^0 to 10^3 with 5 intervals\n",
        "\n",
        "\n",
        "\n",
        "int_array = np.arange(5)\n",
        "print(\"int_array = \", int_array)\n",
        "print(\"float_array = \",int_array.astype(float))\n",
        "\n",
        "#using range\n",
        "for i in range(0,5):\n",
        "    print(i)\n",
        "\n",
        "\n",
        "#Examining array: \n",
        "\n",
        "\n",
        "print(\"arr1.dtype:  \", arr1.dtype) \n",
        "print(\"arr2.dtype:  \", arr2.dtype) \n",
        "print(\"arr2.dim:  \", arr2.ndim) \n",
        "print(\"arr2.shape:  \", arr2.shape) \n",
        "print(\"arr3.shape:  \", arr3.shape) \n",
        "\n",
        "\n",
        "print(\"ar2: \", arr2)\n",
        "print(\"arr2.size: \", arr2.size)\n",
        "print(\"len(arr2): \", len(arr2))\n",
        "\n",
        "\n",
        "\n",
        "# Reshaping \n",
        "\n",
        "\n",
        "arr = np.arange(10, dtype = float).reshape((2,5))\n",
        "print(\"arr: \\n\", arr)\n",
        "print(\"arr.shape: \\n \", arr.shape)\n",
        "print(\"arr.reshape: \\n \", arr.reshape(5,2))\n",
        "\n",
        "\n",
        "\n",
        "# Reshaping \n",
        "\n",
        "\n",
        "a = np.array([0,1,2,3,4])\n",
        "print(\"a:\", a)\n",
        "a_col  = a[:,np.newaxis]\n",
        "print(\"a_col: \", a_col)\n",
        "\n",
        "a_col = a[:,None]\n",
        "print(\"a_col: \", a_col)\n",
        "\n",
        "#Transpose \n",
        "print(\"Transpose: \", a_col.T)\n",
        "\n",
        "\n"
      ],
      "execution_count": 0,
      "outputs": [
        {
          "output_type": "stream",
          "text": [
            "1D array:  [1 2 3 4 5]\n",
            "2D array:  [[1 2 3 4]\n",
            " [5 6 7 8]]\n",
            "2D array as list:   [[1, 2, 3, 4], [5, 6, 7, 8]]\n",
            "3D array:  [[ 1  2  3  4]\n",
            " [ 5  6  7  8]\n",
            " [ 9 10 11 12]]\n",
            "3D array as list  [[1, 2, 3, 4], [5, 6, 7, 8], [9, 10, 11, 12]]\n",
            "np.zeros(10):  [0. 0. 0. 0. 0. 0. 0. 0. 0. 0.]\n",
            "np.zeros((3,6)) [[0. 0. 0. 0. 0. 0.]\n",
            " [0. 0. 0. 0. 0. 0.]\n",
            " [0. 0. 0. 0. 0. 0.]]\n",
            "np.ones(10):  [1. 1. 1. 1. 1. 1. 1. 1. 1. 1.]\n",
            "np.linspace(0,1,5):  [0.   0.25 0.5  0.75 1.  ]\n",
            "np.logspace(0,3,4):  [   1.            5.62341325   31.6227766   177.827941   1000.        ]\n",
            "int_array =  [0 1 2 3 4]\n",
            "float_array =  [0. 1. 2. 3. 4.]\n",
            "0\n",
            "1\n",
            "2\n",
            "3\n",
            "4\n",
            "arr1.dtype:   int64\n",
            "arr2.dtype:   int64\n",
            "arr2.dim:   2\n",
            "arr2.shape:   (2, 4)\n",
            "arr3.shape:   (3, 4)\n",
            "ar2:  [[1 2 3 4]\n",
            " [5 6 7 8]]\n",
            "arr2.size:  8\n",
            "len(arr2):  2\n",
            "arr: \n",
            " [[0. 1. 2. 3. 4.]\n",
            " [5. 6. 7. 8. 9.]]\n",
            "arr.shape: \n",
            "  (2, 5)\n",
            "arr.reshape: \n",
            "  [[0. 1.]\n",
            " [2. 3.]\n",
            " [4. 5.]\n",
            " [6. 7.]\n",
            " [8. 9.]]\n",
            "a: [0 1 2 3 4]\n",
            "a_col:  [[0]\n",
            " [1]\n",
            " [2]\n",
            " [3]\n",
            " [4]]\n",
            "a_col:  [[0]\n",
            " [1]\n",
            " [2]\n",
            " [3]\n",
            " [4]]\n",
            "Transpose:  [[0 1 2 3 4]]\n"
          ],
          "name": "stdout"
        }
      ]
    },
    {
      "cell_type": "code",
      "metadata": {
        "id": "FuT0fGSV0hbs",
        "colab_type": "code",
        "outputId": "c71d2eac-2113-47e2-80cc-fe14ee57f56b",
        "colab": {
          "base_uri": "https://localhost:8080/",
          "height": 199
        }
      },
      "source": [
        "# Flatten:  always return a flat copy of the original array \n",
        "\n",
        "print(\"Flatten output: \")\n",
        "print(\"arr: \", arr)\n",
        "\n",
        "arr_flt = arr.flatten()\n",
        "arr_flt[0] = 33 # add 33 in the 0th index\n",
        "\n",
        "print(\"arr_flt: \", arr_flt)\n",
        "print(\"arr: \", arr)\n",
        "\n",
        "# Ravel: return a value of the original of the flattened array \n",
        "\n",
        "print(\"Ravel output: \")\n",
        "arr_flt2 = arr.ravel()\n",
        "arr_flt2[0] = 33\n",
        "print(\"arr_flt2: \", arr_flt2)\n",
        "print(\"arr \", arr)"
      ],
      "execution_count": 0,
      "outputs": [
        {
          "output_type": "stream",
          "text": [
            "Flatten output: \n",
            "arr:  [[33.  1.  2.  3.  4.]\n",
            " [ 5.  6.  7.  8.  9.]]\n",
            "arr_flt:  [33.  1.  2.  3.  4.  5.  6.  7.  8.  9.]\n",
            "arr:  [[33.  1.  2.  3.  4.]\n",
            " [ 5.  6.  7.  8.  9.]]\n",
            "Ravel output: \n",
            "arr_flt2:  [33.  1.  2.  3.  4.  5.  6.  7.  8.  9.]\n",
            "arr  [[33.  1.  2.  3.  4.]\n",
            " [ 5.  6.  7.  8.  9.]]\n"
          ],
          "name": "stdout"
        }
      ]
    },
    {
      "cell_type": "code",
      "metadata": {
        "id": "e61FPLpK3tlx",
        "colab_type": "code",
        "outputId": "4d51002e-f93f-4db4-cde2-89b1431d6b82",
        "colab": {
          "base_uri": "https://localhost:8080/",
          "height": 108
        }
      },
      "source": [
        "# Stack array \n",
        "\n",
        "\n",
        "\n",
        "a = np.array([0,1])\n",
        "b = np.array([2,3])\n",
        "print(\"a\", a)\n",
        "print(\"b\", b)\n",
        "ab_shape = np.stack((a,b)).shape # shows shape \n",
        "print(\"Shape: \", ab_shape)\n",
        "ab = np.stack((a,b)).T # converting rows in the colomn \n",
        "print(\"Transpose: \", ab)"
      ],
      "execution_count": 0,
      "outputs": [
        {
          "output_type": "stream",
          "text": [
            "a [0 1]\n",
            "b [2 3]\n",
            "Shape:  (2, 2)\n",
            "Transpose:  [[0 2]\n",
            " [1 3]]\n"
          ],
          "name": "stdout"
        }
      ]
    },
    {
      "cell_type": "code",
      "metadata": {
        "id": "IL7OPyuW1gGE",
        "colab_type": "code",
        "outputId": "05340a2d-4af2-48c2-d1ad-964930e2c83b",
        "colab": {
          "base_uri": "https://localhost:8080/",
          "height": 108
        }
      },
      "source": [
        "# Selection \n",
        "\n",
        "\n",
        "arr5 = np.arange(10, dtype = float).reshape((2,5))\n",
        "print(\"arr5: \", arr5)\n",
        "print(\"arr5[0]: \",arr5[0])\n",
        "print(\"arr5[0, 4]:\", arr5[0, 4]) # row 0, column 4 > returns 4 \n",
        "print(\"arr5[0][4]:\", arr5[0][4]) # row 0, column 4 > returns 4 - alternative systax "
      ],
      "execution_count": 0,
      "outputs": [
        {
          "output_type": "stream",
          "text": [
            "arr5:  [[0. 1. 2. 3. 4.]\n",
            " [5. 6. 7. 8. 9.]]\n",
            "arr5[0]:  [0. 1. 2. 3. 4.]\n",
            "arr5[0, 4]: 4.0\n",
            "arr5[0][4]: 4.0\n"
          ],
          "name": "stdout"
        }
      ]
    },
    {
      "cell_type": "code",
      "metadata": {
        "id": "rWKZDua6GH9d",
        "colab_type": "code",
        "outputId": "0992c8de-933f-4b28-9e53-433fc3d25336",
        "colab": {
          "base_uri": "https://localhost:8080/",
          "height": 381
        }
      },
      "source": [
        "#Slicing \n",
        "\n",
        "\n",
        "print(\"arr5: \\n\", arr5)\n",
        "print(\"arr5[0, :]: \\n\", arr5[0, :])\n",
        "print(\"arr5[:,0]: \\n\", arr5[:,0])\n",
        "print(\"arr5[:, :2]: \\n\", arr5[:, :2])\n",
        "print(\"arr5[:, 2:]: \\n\", arr5[:, 2:])\n",
        "arr6 = arr5[:, 1:4]\n",
        "print(\"arr5[:, 1:4] \\n\", arr6)\n",
        "\n",
        "\n",
        "\n",
        "# Reverse order \n",
        "\n",
        "print(\"Reverse 1: \", arr5[0, ::-1] ) # \n",
        "print(\"Reverse 2: \", arr5[1, ::-1] ) # \n",
        "print(\"Reverse 3: \", arr5[ ::-1] ) # "
      ],
      "execution_count": 0,
      "outputs": [
        {
          "output_type": "stream",
          "text": [
            "arr5: \n",
            " [[0. 1. 2. 3. 4.]\n",
            " [5. 6. 7. 8. 9.]]\n",
            "arr5[0, :]: \n",
            " [0. 1. 2. 3. 4.]\n",
            "arr5[:,0]: \n",
            " [0. 5.]\n",
            "arr5[:, :2]: \n",
            " [[0. 1.]\n",
            " [5. 6.]]\n",
            "arr5[:, 2:]: \n",
            " [[2. 3. 4.]\n",
            " [7. 8. 9.]]\n",
            "arr5[:, 1:4] \n",
            " [[1. 2. 3.]\n",
            " [6. 7. 8.]]\n",
            "Reverse 1:  [4. 3. 2. 1. 0.]\n",
            "Reverse 2:  [9. 8. 7. 6. 5.]\n",
            "Reverse 3:  [[5. 6. 7. 8. 9.]\n",
            " [0. 1. 2. 3. 4.]]\n"
          ],
          "name": "stdout"
        }
      ]
    },
    {
      "cell_type": "code",
      "metadata": {
        "id": "2B8iAoDpPNo3",
        "colab_type": "code",
        "outputId": "ea6a4990-dc89-4034-872c-f58d678aaf22",
        "colab": {
          "base_uri": "https://localhost:8080/",
          "height": 235
        }
      },
      "source": [
        "#Fancy Indexing  - returns a copy, not a view \n",
        "\n",
        "print(\"arr5: \\n\", arr5)\n",
        "print(\" arr[:, [1,2,4]]: \\n\",arr[:, [1,2,4]] ) # print everything from colomn index 1, 2, 4 \n",
        "\n",
        "arr5[0,0] = 45\n",
        "\n",
        "print(\"arr5: \\n\", arr5)\n",
        "\n",
        "print(\"arr: \\n\", arr)\n"
      ],
      "execution_count": 0,
      "outputs": [
        {
          "output_type": "stream",
          "text": [
            "arr5: \n",
            " [[45.  1.  2.  3.  4.]\n",
            " [ 5.  6.  7.  8.  9.]]\n",
            " arr[:, [1,2,4]]: \n",
            " [[1. 2. 4.]\n",
            " [6. 7. 9.]]\n",
            "arr5: \n",
            " [[45.  1.  2.  3.  4.]\n",
            " [ 5.  6.  7.  8.  9.]]\n",
            "arr: \n",
            " [[33.  1.  2.  3.  4.]\n",
            " [ 5.  6.  7.  8.  9.]]\n"
          ],
          "name": "stdout"
        }
      ]
    },
    {
      "cell_type": "code",
      "metadata": {
        "id": "zhJPcBqiR0q1",
        "colab_type": "code",
        "outputId": "63a00b99-2a2d-4040-e937-6ab804caeca2",
        "colab": {
          "base_uri": "https://localhost:8080/",
          "height": 199
        }
      },
      "source": [
        "# Booloean array indexing \n",
        "\n",
        "\n",
        "print(arr5)\n",
        "arr7 = arr5[arr5 > 5] # printing all number largerer than 5 \n",
        "print(\"\\n\")\n",
        "print(arr7)\n",
        "arr7[1] = 97\n",
        "print(\"\\n\")\n",
        "print(arr7)\n",
        "\n",
        "\n",
        "# replacing all the value greater than 5 \n",
        "\n",
        "arr7[arr7 > 5] = 0\n",
        "print(\"\\n \", arr7)"
      ],
      "execution_count": 0,
      "outputs": [
        {
          "output_type": "stream",
          "text": [
            "[[45.  1.  2.  3.  4.]\n",
            " [ 5.  6.  7.  8.  9.]]\n",
            "\n",
            "\n",
            "[45.  6.  7.  8.  9.]\n",
            "\n",
            "\n",
            "[45. 97.  7.  8.  9.]\n",
            "\n",
            "  [0. 0. 0. 0. 0.]\n"
          ],
          "name": "stdout"
        }
      ]
    },
    {
      "cell_type": "code",
      "metadata": {
        "id": "sXejKEChTkwQ",
        "colab_type": "code",
        "outputId": "59523421-1777-41ff-8b68-8e1b4276e073",
        "colab": {
          "base_uri": "https://localhost:8080/",
          "height": 54
        }
      },
      "source": [
        "#Boolean array indexing.... \n",
        "\n",
        "\n",
        "names = np.array(['anik','sileshi','peter','rakesh'])\n",
        "print(names == 'anik') # [ True False False False]\n",
        "names[names != 'anik']\n",
        "(names == 'anik') | (names == 'peter')\n",
        "names[names != 'anik' ] = 'sileshi'\n",
        "np.unique(names)\n"
      ],
      "execution_count": 0,
      "outputs": [
        {
          "output_type": "stream",
          "text": [
            "[ True False False False]\n"
          ],
          "name": "stdout"
        },
        {
          "output_type": "execute_result",
          "data": {
            "text/plain": [
              "array(['anik', 'sileshi'], dtype='<U7')"
            ]
          },
          "metadata": {
            "tags": []
          },
          "execution_count": 178
        }
      ]
    },
    {
      "cell_type": "code",
      "metadata": {
        "id": "RpkV7LWJVm3d",
        "colab_type": "code",
        "outputId": "7d0b368c-d79c-4c46-9958-32e31b6eafd3",
        "colab": {
          "base_uri": "https://localhost:8080/",
          "height": 145
        }
      },
      "source": [
        "#Vectorized operarions \n",
        "\n",
        "nums = np.arange(5)\n",
        "print(\"np.arange(5): \", nums ) # [0 1 2 3 4]\n",
        "print(\"nums * 10 :\", nums*10 ) # [ 0 10 20 30 40]\n",
        "nums = np.sqrt(nums)\n",
        "print(\"sqrt: \", nums) # [0.         1.         1.41421356 1.73205081 2.        ]\n",
        "print(\"Ceil: \", np.ceil(nums)) # [0. 1. 2. 2. 2.]\n",
        "print(\"isNaN: \", np.isnan(nums)) # Not a number - [False False False False False]\n",
        "print(\"nums + np.arange(5):  \", nums + np.arange(5)) # [0.         2.         3.41421356 4.73205081 6.        ]\n",
        "print(\"np.maximum: \", np.maximum(nums, np.array([1,-2, 3, -4, 5 ]))) #  [1.         1.         3.         1.73205081 5.        ]"
      ],
      "execution_count": 0,
      "outputs": [
        {
          "output_type": "stream",
          "text": [
            "np.arange(5):  [0 1 2 3 4]\n",
            "nums * 10 : [ 0 10 20 30 40]\n",
            "sqrt:  [0.         1.         1.41421356 1.73205081 2.        ]\n",
            "Ceil:  [0. 1. 2. 2. 2.]\n",
            "isNaN:  [False False False False False]\n",
            "nums + np.arange(5):   [0.         2.         3.41421356 4.73205081 6.        ]\n",
            "np.maximum:  [1.         1.         3.         1.73205081 5.        ]\n"
          ],
          "name": "stdout"
        }
      ]
    },
    {
      "cell_type": "code",
      "metadata": {
        "id": "I3Ln7t8xeNhQ",
        "colab_type": "code",
        "outputId": "f9f50f3e-38fa-4d93-eec3-1c6e4cc984e3",
        "colab": {
          "base_uri": "https://localhost:8080/",
          "height": 69
        }
      },
      "source": [
        "#compute \n",
        "vector1 = np.random.randn(10)\n",
        "print(vector1)\n",
        "vector2 = np.random.randn(10)\n",
        "dist = np.sqrt(np.sum((vector1 - vector2) ** 2))\n",
        "print(dist)"
      ],
      "execution_count": 0,
      "outputs": [
        {
          "output_type": "stream",
          "text": [
            "[-0.09508749  0.02379388 -0.18478749  0.38640911  0.46374574  0.40530762\n",
            " -0.49548321 -0.00946938 -0.27789627 -0.42438041]\n",
            "5.65525619713766\n"
          ],
          "name": "stdout"
        }
      ]
    },
    {
      "cell_type": "code",
      "metadata": {
        "id": "S2HxQfCFerpG",
        "colab_type": "code",
        "outputId": "4a4d3b15-c1b3-4d19-e8f1-dcd73dd9f1f9",
        "colab": {
          "base_uri": "https://localhost:8080/",
          "height": 187
        }
      },
      "source": [
        "\n",
        "#math..\n",
        "\n",
        "rnd = np.random.randn(4,2) # random in form of 4x2 array \n",
        "print(\"random 4x2 format: \", rnd)\n",
        "print(\"random mean: \", rnd.mean())\n",
        "print(\"random std: \", rnd.std())\n",
        "print(\"random argmin: \", rnd.argmin()) #shows the position \n",
        "print(\"random sum: \", rnd.sum())\n",
        "print(\"random sum(axis=0): \", rnd.sum(axis=0)) # column\n",
        "print(\"random sum(axis=1): \", rnd.sum(axis=1)) # row \n",
        "\n",
        "\n",
        "\n"
      ],
      "execution_count": 0,
      "outputs": [
        {
          "output_type": "stream",
          "text": [
            "random 4x2 format:  [[-0.67641501 -0.81116262]\n",
            " [-0.36642584 -0.42755008]\n",
            " [ 1.02837214  0.10413813]\n",
            " [-1.14609236 -0.6001503 ]]\n",
            "random mean:  -0.3619107424122866\n",
            "random std:  0.6251855746069955\n",
            "random argmin:  6\n",
            "random sum:  -2.895285939298293\n",
            "random sum(axis=0):  [-1.16056107 -1.73472486]\n",
            "random sum(axis=1):  [-1.48757763 -0.79397592  1.13251027 -1.74624266]\n"
          ],
          "name": "stdout"
        }
      ]
    },
    {
      "cell_type": "code",
      "metadata": {
        "id": "Us7bHsyjnpEA",
        "colab_type": "code",
        "outputId": "4f205b22-fbe6-4f9d-a660-22c6ce590bad",
        "colab": {
          "base_uri": "https://localhost:8080/",
          "height": 34
        }
      },
      "source": [
        "\n",
        "\n",
        "#Methods for boolean array\n",
        "\n",
        "print(\"rnd: \", rnd)\n",
        "print(\"rnd > 0: \", (rnd > 0).sum()) # count the positive values \n",
        "print(\"rnd > 0: \", (rnd > 0).any()) # check if any value is true \n",
        "print(\"rnd > 0: \", (rnd > 0).all()) # check if all values are true \n",
        "\n",
        "\n",
        "\n",
        "# random numbers: \n",
        "print(\"Random numbers: \")\n",
        "\n",
        "print(np.random.seed(12234)) # set the seed\n",
        "print(np.random.rand(2,3)) # 2 x 3 matrix \n",
        "print(np.random.randn(10)) # mean normals \n",
        "print(np.random.randint(0,6,10)) # 10 randomly picked 0,1,2,3,4,5\n",
        "\n",
        "\n"
      ],
      "execution_count": 0,
      "outputs": [
        {
          "output_type": "stream",
          "text": [
            "rnd > 0  2\n"
          ],
          "name": "stdout"
        }
      ]
    },
    {
      "cell_type": "code",
      "metadata": {
        "id": "XlJWpfPPoV78",
        "colab_type": "code",
        "outputId": "27b582b6-7790-4c29-d9e7-51f1700ce6d0",
        "colab": {
          "base_uri": "https://localhost:8080/",
          "height": 86
        }
      },
      "source": [
        "a = np.array([[0, 0, 0], [10 ,10, 10], [20, 20, 20], [30, 30, 30]])\n",
        "b = np.array([0, 1, 2])\n",
        "print(a + b)"
      ],
      "execution_count": 0,
      "outputs": [
        {
          "output_type": "stream",
          "text": [
            "[[ 0  1  2]\n",
            " [10 11 12]\n",
            " [20 21 22]\n",
            " [30 31 32]]\n"
          ],
          "name": "stdout"
        }
      ]
    },
    {
      "cell_type": "code",
      "metadata": {
        "id": "2Siri_IVuGkY",
        "colab_type": "code",
        "outputId": "d9bf488f-d579-409f-8bd7-3a583211a8cc",
        "colab": {
          "base_uri": "https://localhost:8080/",
          "height": 173
        }
      },
      "source": [
        "X = np.random.randn(4,2)\n",
        "print(X)\n",
        "print(X.argmin())\n",
        "print(X[:,0])\n",
        "print(X[:,0].argmin())\n",
        "print(X[:,1])\n",
        "print(X[:,1].argmin())"
      ],
      "execution_count": 0,
      "outputs": [
        {
          "output_type": "stream",
          "text": [
            "[[-0.93529347  0.47375006]\n",
            " [ 1.23988275  0.88721125]\n",
            " [-0.35339309  1.96213891]\n",
            " [-0.66554641 -0.20451016]]\n",
            "0\n",
            "[-0.93529347  1.23988275 -0.35339309 -0.66554641]\n",
            "0\n",
            "[ 0.47375006  0.88721125  1.96213891 -0.20451016]\n",
            "3\n"
          ],
          "name": "stdout"
        }
      ]
    },
    {
      "cell_type": "code",
      "metadata": {
        "id": "9qEf4mA2wqPl",
        "colab_type": "code",
        "outputId": "7710c854-d875-4a66-bc13-ec62777ebc5a",
        "colab": {
          "base_uri": "https://localhost:8080/",
          "height": 86
        }
      },
      "source": [
        "standardize= (X-X.mean()) / X.std() # This is done with a standard formula given for standard deviation\n",
        "print(standardize)\n",
        "  "
      ],
      "execution_count": 0,
      "outputs": [
        {
          "output_type": "stream",
          "text": [
            "[[-1.30623555  0.18308945]\n",
            " [ 0.9928732   0.62010794]\n",
            " [-0.69118089  1.75628052]\n",
            " [-1.02111942 -0.53381524]]\n"
          ],
          "name": "stdout"
        }
      ]
    },
    {
      "cell_type": "code",
      "metadata": {
        "id": "WfQkaIs02-pD",
        "colab_type": "code",
        "outputId": "b8c3d81b-8bc4-4e0c-8b05-b392a72edfef",
        "colab": {
          "base_uri": "https://localhost:8080/",
          "height": 86
        }
      },
      "source": [
        "from mlxtend.preprocessing import standardize # This is done using a built-in function called standarize\n",
        "standardize(X, columns=[0, 1])"
      ],
      "execution_count": 0,
      "outputs": [
        {
          "output_type": "execute_result",
          "data": {
            "text/plain": [
              "array([[-0.89609879, -0.38911863],\n",
              "       [ 1.67976686,  0.13682708],\n",
              "       [-0.20700647,  1.50419504],\n",
              "       [-0.57666159, -1.25190349]])"
            ]
          },
          "metadata": {
            "tags": []
          },
          "execution_count": 23
        }
      ]
    },
    {
      "cell_type": "markdown",
      "metadata": {
        "id": "JAn75hIe4hRy",
        "colab_type": "text"
      },
      "source": [
        "Page 7:\n",
        "\n",
        "The image in page 7 explains the way to add different dimensional arrays. For example, we can add 3D array only if another array is also 3D. We cannot add 3D with another 1D array. To add, 1D array with 3D, we must need to convert 1D array to 3D array. The first picture adds 3D array with another 3D array. The second picture adds 3D array with 1D array after converting it to the 3D array. In the third picture, both were 1D array and so we converted both into 3D array first. In the end, the output is same 3D array.\n",
        "\n",
        "5 commands from Scipy: \n",
        "* ndarray.real: It shows the real part of an array\n",
        "* ndarray.imag: It shows the imaginary part of an array\n",
        "* ndarray.sort: It sort an array\n",
        "* ndarray.round: Return a with each element rounded to the given number of decimals. It may be very * useful when we don’t need the fraction of data.\n",
        "* numpy.mod: It returns the element wise reminder of the division\n"
      ]
    }
  ]
}