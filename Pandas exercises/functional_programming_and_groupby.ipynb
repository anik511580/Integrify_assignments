{
 "cells": [
  {
   "cell_type": "markdown",
   "metadata": {},
   "source": [
    "# Task 1\n",
    "Write functional programming code to apply a list of functions on a list of integers. Explain how it works as well and how it relates to functional programing."
   ]
  },
  {
   "cell_type": "code",
   "execution_count": null,
   "metadata": {
    "ExecuteTime": {
     "end_time": "2019-07-08T08:36:51.368823Z",
     "start_time": "2019-07-08T08:36:51.313970Z"
    }
   },
   "outputs": [],
   "source": [
    "lst= [[1,2,3],[4,5,6]]\n",
    "df = pd.DataFrame(lst, columns =('A','B','C'))\n",
    "df\n",
    "def adding(x1, x2):\n",
    "    return x1+x2\n",
    "#adding(2,3)\n",
    "\n",
    "def deleting(x1, x2):\n",
    "    return x2-x1\n",
    "\n",
    "x= [adding (df['0'], df['1']) , deleting (df['0'],df['1']) ]"
   ]
  },
  {
   "cell_type": "code",
   "execution_count": null,
   "metadata": {
    "ExecuteTime": {
     "end_time": "2019-07-08T08:31:53.269043Z",
     "start_time": "2019-07-08T08:31:53.239087Z"
    }
   },
   "outputs": [],
   "source": [
    "import numpy as np\n",
    "import pandas as pd\n",
    "\n",
    "# lst = [[1,2,3,4,5],[6,7,8,9,10]]\n",
    "lst= [1,2,3]\n",
    "# Calling DataFrame constructor on list \n",
    "df = pd.DataFrame(lst, columns =('A','B','C','D','E'))\n",
    "df['group']=[0,1]\n",
    "df \n",
    "\n",
    "#function definitions\n",
    "\n",
    "def adding(x1, x2):\n",
    "    return x1+x2\n",
    "#adding(2,3)\n",
    "\n",
    "def deleting(x1, x2):\n",
    "    return x2-x1\n",
    "\n",
    "def dividing(x1, x2):\n",
    "    return x2/x1\n",
    "#dividing(2,3)\n",
    "\n",
    "def max_min(x):\n",
    "    return x.max() - x.min()\n",
    "\n",
    "#max_min.__name__ = 'Max minus Min'\n",
    "\n",
    "# df.groupby('group').agg({'D': max_min,'E': adding,})# 'A':['sum', 'max'],'B':'mean','C':'sum'})#,'D': max_min,'E': adding})\n"
   ]
  },
  {
   "cell_type": "markdown",
   "metadata": {},
   "source": [
    "# Task 2\n",
    "Find the greatest common divisor of a list of numbers using Reduce. Explain how the code works as well. Explain how it works as well and how it relates to functional programing."
   ]
  },
  {
   "cell_type": "code",
   "execution_count": 2,
   "metadata": {
    "ExecuteTime": {
     "end_time": "2019-07-08T11:55:34.729030Z",
     "start_time": "2019-07-08T11:55:34.721056Z"
    }
   },
   "outputs": [
    {
     "name": "stdout",
     "output_type": "stream",
     "text": [
      "The greatest common divisor of the list is 24\n"
     ]
    }
   ],
   "source": [
    "from functools import reduce\n",
    "\n",
    "def hcf(a,b): \n",
    "    if(b==0): \n",
    "        return a \n",
    "    else: \n",
    "        return hcf(b,a%b)\n",
    "    \n",
    "def find_gcd(list):\n",
    "    x = reduce(hcf, [48,72,120])\n",
    "    return x\n",
    "    \n",
    "print(\"The greatest common divisor of the list is\", find_gcd([48,72,96,120]))\n",
    "#print(\"The greatest common divisor of the list is\", x)\n"
   ]
  },
  {
   "cell_type": "code",
   "execution_count": null,
   "metadata": {
    "ExecuteTime": {
     "end_time": "2019-07-08T08:36:30.740265Z",
     "start_time": "2019-07-08T08:36:30.727301Z"
    }
   },
   "outputs": [],
   "source": []
  },
  {
   "cell_type": "markdown",
   "metadata": {},
   "source": [
    "# Task 3\n",
    "Write a function groupby_demonstrator that takes as a list of tuples as an input (arg data) as well as boolean argument (verify_sorted). If verify_sorted is true, the list is sorted by the first key (0-th tuple element), otherwise it is not sorted.\n",
    "\n",
    "The function should print out key-value pairs by groups (as output from Python groupby). The print statements between groups should have an empty line. Print statements inside-group should not have empty lines in between (just new lines between records).\n",
    "\n",
    "Add a decorator ‘ensure_sourted_grouper’ that overrides the grouping, by making sure that the list is sorted when an argument ‘verify_sorted’ = True is passed. Otherwise, “You didn’t enforce the order” is printed to the console."
   ]
  },
  {
   "cell_type": "code",
   "execution_count": null,
   "metadata": {
    "ExecuteTime": {
     "end_time": "2019-07-08T11:24:31.588766Z",
     "start_time": "2019-07-08T11:24:31.552863Z"
    }
   },
   "outputs": [],
   "source": [
    "tuplez=[(1,2),(4,3),(3,4),(1,9)]\n",
    "def Dec(groupby_demonstrator):\n",
    "    def inner(tuplez, verify_sorted=[True,False]):\n",
    "        groupby_demonstrator(tuplez, verify_sorted=[True,False])\n",
    "        if verify_sorted == True:\n",
    "            print(\"i is sorted\")\n",
    "        else:\n",
    "            print(\"you didnt enforce order\")\n",
    "    return inner\n",
    "        \n",
    "@Dec\n",
    "def groupby_demonstrator(tuplez, verify_sorted=[True,False]):\n",
    "    if verify_sorted==True:\n",
    "        tuplez.sort()\n",
    "        print(tuplez)\n",
    "\n",
    "groupby_demonstrator(tuplez, False)"
   ]
  },
  {
   "cell_type": "markdown",
   "metadata": {},
   "source": [
    "# Task 4\n",
    "Functional programming is a programming style/paradigm where immutable data structure is used and closely connected with the mathematics.\n",
    "\n",
    "It reduces the probability of bugs and makes the code more maintainable.\n",
    "\n",
    "filter() function: We use lambda expresson, then assign input parameter, then condition and the iterable/list.\n",
    "\n",
    "Example:  tuple( filter(lambda x: x%2 == 0, [1,2,3,4,5,6]))\n",
    "Output:  (2, 4, 6)\n",
    "\n",
    "There are 3 types of function used in functional programming in python.\n",
    "\n",
    "## itertool:\n",
    "\n",
    "This is a fast and memory efficient tool used for looping operations. Functions such as count(), cycle(), repeat(), groupby(), islice() etc are used as itertool.\n",
    "\n",
    "## functools:\n",
    "\n",
    "We use functools for higher order functions (means the function that returns other functions). We use \"import functools\" in the beginning of the program to use functools.\n",
    "\n",
    "For example, functools.partial(func, *args, **keywords) freezes some portion of the function arguments.\n",
    "\n",
    "functools.reduce(function, iterable[, initializer]) operates on multiple arguments from left to right to produce a single output.\n",
    "\n",
    "As an example, reduce(lambda x, y: x+y, [1, 2, 3, 4, 5]) means ((((1+2)+3)+4)+5).\n",
    "\n",
    "\n",
    "## operator\n",
    "\n",
    "The operator module exports a set of efficient functions for object comparison.\n",
    "\n",
    "For example,\n",
    "operator.lt(a, b) means a < b\n",
    "operator.eq(a, b) means a==b\n",
    "operator.is_(a, b) returns if a is b\n",
    "operator.mod(a, b) means a%b"
   ]
  }
 ],
 "metadata": {
  "kernelspec": {
   "display_name": "Python 3",
   "language": "python",
   "name": "python3"
  },
  "language_info": {
   "codemirror_mode": {
    "name": "ipython",
    "version": 3
   },
   "file_extension": ".py",
   "mimetype": "text/x-python",
   "name": "python",
   "nbconvert_exporter": "python",
   "pygments_lexer": "ipython3",
   "version": "3.7.3"
  },
  "toc": {
   "base_numbering": 1,
   "nav_menu": {},
   "number_sections": true,
   "sideBar": true,
   "skip_h1_title": false,
   "title_cell": "Table of Contents",
   "title_sidebar": "Contents",
   "toc_cell": false,
   "toc_position": {},
   "toc_section_display": true,
   "toc_window_display": false
  },
  "varInspector": {
   "cols": {
    "lenName": 16,
    "lenType": 16,
    "lenVar": 40
   },
   "kernels_config": {
    "python": {
     "delete_cmd_postfix": "",
     "delete_cmd_prefix": "del ",
     "library": "var_list.py",
     "varRefreshCmd": "print(var_dic_list())"
    },
    "r": {
     "delete_cmd_postfix": ") ",
     "delete_cmd_prefix": "rm(",
     "library": "var_list.r",
     "varRefreshCmd": "cat(var_dic_list()) "
    }
   },
   "types_to_exclude": [
    "module",
    "function",
    "builtin_function_or_method",
    "instance",
    "_Feature"
   ],
   "window_display": false
  }
 },
 "nbformat": 4,
 "nbformat_minor": 2
}
