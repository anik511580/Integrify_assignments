{
 "cells": [
  {
   "cell_type": "code",
   "execution_count": 1,
   "metadata": {
    "ExecuteTime": {
     "end_time": "2019-09-12T10:34:19.652563Z",
     "start_time": "2019-09-12T10:34:18.362399Z"
    }
   },
   "outputs": [],
   "source": [
    "import pandas as pd \n",
    "import seaborn as sns\n",
    "import numpy as np\n",
    "import matplotlib.pyplot as plt\n",
    "%matplotlib inline\n",
    "    "
   ]
  },
  {
   "cell_type": "code",
   "execution_count": 2,
   "metadata": {
    "ExecuteTime": {
     "end_time": "2019-09-12T10:34:19.735649Z",
     "start_time": "2019-09-12T10:34:19.656289Z"
    },
    "scrolled": false
   },
   "outputs": [
    {
     "data": {
      "text/html": [
       "<div>\n",
       "<style scoped>\n",
       "    .dataframe tbody tr th:only-of-type {\n",
       "        vertical-align: middle;\n",
       "    }\n",
       "\n",
       "    .dataframe tbody tr th {\n",
       "        vertical-align: top;\n",
       "    }\n",
       "\n",
       "    .dataframe thead th {\n",
       "        text-align: right;\n",
       "    }\n",
       "</style>\n",
       "<table border=\"1\" class=\"dataframe\">\n",
       "  <thead>\n",
       "    <tr style=\"text-align: right;\">\n",
       "      <th></th>\n",
       "      <th>Date</th>\n",
       "      <th>A</th>\n",
       "      <th>B</th>\n",
       "      <th>C</th>\n",
       "      <th>D</th>\n",
       "      <th>E</th>\n",
       "      <th>F</th>\n",
       "      <th>G</th>\n",
       "      <th>H</th>\n",
       "      <th>I</th>\n",
       "      <th>J</th>\n",
       "      <th>K</th>\n",
       "      <th>Total_count</th>\n",
       "    </tr>\n",
       "  </thead>\n",
       "  <tbody>\n",
       "    <tr>\n",
       "      <th>0</th>\n",
       "      <td>2009-01-05 00:00:00</td>\n",
       "      <td>14.0</td>\n",
       "      <td>3.0</td>\n",
       "      <td>3.0</td>\n",
       "      <td>9.0</td>\n",
       "      <td>55.0</td>\n",
       "      <td>0.0</td>\n",
       "      <td>0.0</td>\n",
       "      <td>19.0</td>\n",
       "      <td>41.0</td>\n",
       "      <td>16.0</td>\n",
       "      <td>24.0</td>\n",
       "      <td>9</td>\n",
       "    </tr>\n",
       "    <tr>\n",
       "      <th>1</th>\n",
       "      <td>2009-01-12 00:00:00</td>\n",
       "      <td>13.0</td>\n",
       "      <td>0.0</td>\n",
       "      <td>3.0</td>\n",
       "      <td>4.0</td>\n",
       "      <td>43.0</td>\n",
       "      <td>0.0</td>\n",
       "      <td>0.0</td>\n",
       "      <td>19.0</td>\n",
       "      <td>37.0</td>\n",
       "      <td>12.0</td>\n",
       "      <td>19.0</td>\n",
       "      <td>15</td>\n",
       "    </tr>\n",
       "    <tr>\n",
       "      <th>2</th>\n",
       "      <td>2009-01-19 00:00:00</td>\n",
       "      <td>13.0</td>\n",
       "      <td>1.0</td>\n",
       "      <td>8.0</td>\n",
       "      <td>6.0</td>\n",
       "      <td>32.0</td>\n",
       "      <td>1.0</td>\n",
       "      <td>0.0</td>\n",
       "      <td>19.0</td>\n",
       "      <td>44.0</td>\n",
       "      <td>5.0</td>\n",
       "      <td>31.0</td>\n",
       "      <td>20</td>\n",
       "    </tr>\n",
       "    <tr>\n",
       "      <th>3</th>\n",
       "      <td>2009-01-26 00:00:00</td>\n",
       "      <td>17.0</td>\n",
       "      <td>2.0</td>\n",
       "      <td>17.0</td>\n",
       "      <td>4.0</td>\n",
       "      <td>59.0</td>\n",
       "      <td>2.0</td>\n",
       "      <td>0.0</td>\n",
       "      <td>22.0</td>\n",
       "      <td>40.0</td>\n",
       "      <td>8.0</td>\n",
       "      <td>15.0</td>\n",
       "      <td>51</td>\n",
       "    </tr>\n",
       "    <tr>\n",
       "      <th>4</th>\n",
       "      <td>2009-02-02 00:00:00</td>\n",
       "      <td>15.0</td>\n",
       "      <td>3.0</td>\n",
       "      <td>3.0</td>\n",
       "      <td>5.0</td>\n",
       "      <td>58.0</td>\n",
       "      <td>0.0</td>\n",
       "      <td>0.0</td>\n",
       "      <td>28.0</td>\n",
       "      <td>41.0</td>\n",
       "      <td>5.0</td>\n",
       "      <td>27.0</td>\n",
       "      <td>51</td>\n",
       "    </tr>\n",
       "  </tbody>\n",
       "</table>\n",
       "</div>"
      ],
      "text/plain": [
       "                  Date     A    B     C    D     E    F    G     H     I  \\\n",
       "0  2009-01-05 00:00:00  14.0  3.0   3.0  9.0  55.0  0.0  0.0  19.0  41.0   \n",
       "1  2009-01-12 00:00:00  13.0  0.0   3.0  4.0  43.0  0.0  0.0  19.0  37.0   \n",
       "2  2009-01-19 00:00:00  13.0  1.0   8.0  6.0  32.0  1.0  0.0  19.0  44.0   \n",
       "3  2009-01-26 00:00:00  17.0  2.0  17.0  4.0  59.0  2.0  0.0  22.0  40.0   \n",
       "4  2009-02-02 00:00:00  15.0  3.0   3.0  5.0  58.0  0.0  0.0  28.0  41.0   \n",
       "\n",
       "      J     K  Total_count  \n",
       "0  16.0  24.0            9  \n",
       "1  12.0  19.0           15  \n",
       "2   5.0  31.0           20  \n",
       "3   8.0  15.0           51  \n",
       "4   5.0  27.0           51  "
      ]
     },
     "execution_count": 2,
     "metadata": {},
     "output_type": "execute_result"
    }
   ],
   "source": [
    "keywords = ['Date','A','B','C','D','E','F','G','H','I','J','K','Total_count']\n",
    "\n",
    "train = pd.read_csv(\"training_set.csv\", header=None, delimiter = \";\", names = keywords)\n",
    "train.head()\n"
   ]
  },
  {
   "cell_type": "code",
   "execution_count": 3,
   "metadata": {
    "ExecuteTime": {
     "end_time": "2019-09-12T10:34:19.772850Z",
     "start_time": "2019-09-12T10:34:19.741105Z"
    },
    "scrolled": true
   },
   "outputs": [
    {
     "data": {
      "text/html": [
       "<div>\n",
       "<style scoped>\n",
       "    .dataframe tbody tr th:only-of-type {\n",
       "        vertical-align: middle;\n",
       "    }\n",
       "\n",
       "    .dataframe tbody tr th {\n",
       "        vertical-align: top;\n",
       "    }\n",
       "\n",
       "    .dataframe thead th {\n",
       "        text-align: right;\n",
       "    }\n",
       "</style>\n",
       "<table border=\"1\" class=\"dataframe\">\n",
       "  <thead>\n",
       "    <tr style=\"text-align: right;\">\n",
       "      <th></th>\n",
       "      <th>A</th>\n",
       "      <th>B</th>\n",
       "      <th>C</th>\n",
       "      <th>D</th>\n",
       "      <th>E</th>\n",
       "      <th>F</th>\n",
       "      <th>G</th>\n",
       "      <th>H</th>\n",
       "      <th>I</th>\n",
       "      <th>J</th>\n",
       "      <th>K</th>\n",
       "      <th>Total_count</th>\n",
       "    </tr>\n",
       "  </thead>\n",
       "  <tbody>\n",
       "    <tr>\n",
       "      <th>0</th>\n",
       "      <td>14.0</td>\n",
       "      <td>3.0</td>\n",
       "      <td>3.0</td>\n",
       "      <td>9.0</td>\n",
       "      <td>55.0</td>\n",
       "      <td>0.0</td>\n",
       "      <td>0.0</td>\n",
       "      <td>19.0</td>\n",
       "      <td>41.0</td>\n",
       "      <td>16.0</td>\n",
       "      <td>24.0</td>\n",
       "      <td>9</td>\n",
       "    </tr>\n",
       "    <tr>\n",
       "      <th>1</th>\n",
       "      <td>13.0</td>\n",
       "      <td>0.0</td>\n",
       "      <td>3.0</td>\n",
       "      <td>4.0</td>\n",
       "      <td>43.0</td>\n",
       "      <td>0.0</td>\n",
       "      <td>0.0</td>\n",
       "      <td>19.0</td>\n",
       "      <td>37.0</td>\n",
       "      <td>12.0</td>\n",
       "      <td>19.0</td>\n",
       "      <td>15</td>\n",
       "    </tr>\n",
       "    <tr>\n",
       "      <th>2</th>\n",
       "      <td>13.0</td>\n",
       "      <td>1.0</td>\n",
       "      <td>8.0</td>\n",
       "      <td>6.0</td>\n",
       "      <td>32.0</td>\n",
       "      <td>1.0</td>\n",
       "      <td>0.0</td>\n",
       "      <td>19.0</td>\n",
       "      <td>44.0</td>\n",
       "      <td>5.0</td>\n",
       "      <td>31.0</td>\n",
       "      <td>20</td>\n",
       "    </tr>\n",
       "    <tr>\n",
       "      <th>3</th>\n",
       "      <td>17.0</td>\n",
       "      <td>2.0</td>\n",
       "      <td>17.0</td>\n",
       "      <td>4.0</td>\n",
       "      <td>59.0</td>\n",
       "      <td>2.0</td>\n",
       "      <td>0.0</td>\n",
       "      <td>22.0</td>\n",
       "      <td>40.0</td>\n",
       "      <td>8.0</td>\n",
       "      <td>15.0</td>\n",
       "      <td>51</td>\n",
       "    </tr>\n",
       "    <tr>\n",
       "      <th>4</th>\n",
       "      <td>15.0</td>\n",
       "      <td>3.0</td>\n",
       "      <td>3.0</td>\n",
       "      <td>5.0</td>\n",
       "      <td>58.0</td>\n",
       "      <td>0.0</td>\n",
       "      <td>0.0</td>\n",
       "      <td>28.0</td>\n",
       "      <td>41.0</td>\n",
       "      <td>5.0</td>\n",
       "      <td>27.0</td>\n",
       "      <td>51</td>\n",
       "    </tr>\n",
       "  </tbody>\n",
       "</table>\n",
       "</div>"
      ],
      "text/plain": [
       "      A    B     C    D     E    F    G     H     I     J     K  Total_count\n",
       "0  14.0  3.0   3.0  9.0  55.0  0.0  0.0  19.0  41.0  16.0  24.0            9\n",
       "1  13.0  0.0   3.0  4.0  43.0  0.0  0.0  19.0  37.0  12.0  19.0           15\n",
       "2  13.0  1.0   8.0  6.0  32.0  1.0  0.0  19.0  44.0   5.0  31.0           20\n",
       "3  17.0  2.0  17.0  4.0  59.0  2.0  0.0  22.0  40.0   8.0  15.0           51\n",
       "4  15.0  3.0   3.0  5.0  58.0  0.0  0.0  28.0  41.0   5.0  27.0           51"
      ]
     },
     "execution_count": 3,
     "metadata": {},
     "output_type": "execute_result"
    }
   ],
   "source": [
    "train.drop('Date', axis=1, inplace=True)\n",
    "train.head()"
   ]
  },
  {
   "cell_type": "code",
   "execution_count": 4,
   "metadata": {
    "ExecuteTime": {
     "end_time": "2019-09-12T10:34:19.864608Z",
     "start_time": "2019-09-12T10:34:19.777809Z"
    }
   },
   "outputs": [
    {
     "data": {
      "text/html": [
       "<div>\n",
       "<style scoped>\n",
       "    .dataframe tbody tr th:only-of-type {\n",
       "        vertical-align: middle;\n",
       "    }\n",
       "\n",
       "    .dataframe tbody tr th {\n",
       "        vertical-align: top;\n",
       "    }\n",
       "\n",
       "    .dataframe thead th {\n",
       "        text-align: right;\n",
       "    }\n",
       "</style>\n",
       "<table border=\"1\" class=\"dataframe\">\n",
       "  <thead>\n",
       "    <tr style=\"text-align: right;\">\n",
       "      <th></th>\n",
       "      <th>A</th>\n",
       "      <th>B</th>\n",
       "      <th>C</th>\n",
       "      <th>D</th>\n",
       "      <th>E</th>\n",
       "      <th>F</th>\n",
       "      <th>G</th>\n",
       "      <th>H</th>\n",
       "      <th>I</th>\n",
       "      <th>J</th>\n",
       "      <th>K</th>\n",
       "      <th>Total_count</th>\n",
       "    </tr>\n",
       "  </thead>\n",
       "  <tbody>\n",
       "    <tr>\n",
       "      <th>count</th>\n",
       "      <td>282.000000</td>\n",
       "      <td>282.000000</td>\n",
       "      <td>282.000000</td>\n",
       "      <td>282.000000</td>\n",
       "      <td>282.000000</td>\n",
       "      <td>282.000000</td>\n",
       "      <td>282.000000</td>\n",
       "      <td>282.000000</td>\n",
       "      <td>282.000000</td>\n",
       "      <td>282.000000</td>\n",
       "      <td>282.000000</td>\n",
       "      <td>282.000000</td>\n",
       "    </tr>\n",
       "    <tr>\n",
       "      <th>mean</th>\n",
       "      <td>8.741135</td>\n",
       "      <td>1.599291</td>\n",
       "      <td>11.099291</td>\n",
       "      <td>3.450355</td>\n",
       "      <td>24.812057</td>\n",
       "      <td>0.585106</td>\n",
       "      <td>0.265957</td>\n",
       "      <td>9.542553</td>\n",
       "      <td>20.177305</td>\n",
       "      <td>10.528369</td>\n",
       "      <td>11.691489</td>\n",
       "      <td>34.312057</td>\n",
       "    </tr>\n",
       "    <tr>\n",
       "      <th>std</th>\n",
       "      <td>4.403211</td>\n",
       "      <td>1.589243</td>\n",
       "      <td>28.211909</td>\n",
       "      <td>3.562260</td>\n",
       "      <td>24.315910</td>\n",
       "      <td>1.094238</td>\n",
       "      <td>0.556595</td>\n",
       "      <td>7.052419</td>\n",
       "      <td>9.279974</td>\n",
       "      <td>19.648900</td>\n",
       "      <td>10.061759</td>\n",
       "      <td>78.347536</td>\n",
       "    </tr>\n",
       "    <tr>\n",
       "      <th>min</th>\n",
       "      <td>0.000000</td>\n",
       "      <td>0.000000</td>\n",
       "      <td>0.000000</td>\n",
       "      <td>0.000000</td>\n",
       "      <td>2.000000</td>\n",
       "      <td>0.000000</td>\n",
       "      <td>0.000000</td>\n",
       "      <td>0.000000</td>\n",
       "      <td>2.000000</td>\n",
       "      <td>0.000000</td>\n",
       "      <td>0.000000</td>\n",
       "      <td>0.000000</td>\n",
       "    </tr>\n",
       "    <tr>\n",
       "      <th>25%</th>\n",
       "      <td>6.000000</td>\n",
       "      <td>1.000000</td>\n",
       "      <td>1.000000</td>\n",
       "      <td>1.000000</td>\n",
       "      <td>14.000000</td>\n",
       "      <td>0.000000</td>\n",
       "      <td>0.000000</td>\n",
       "      <td>4.000000</td>\n",
       "      <td>14.000000</td>\n",
       "      <td>4.000000</td>\n",
       "      <td>6.000000</td>\n",
       "      <td>4.000000</td>\n",
       "    </tr>\n",
       "    <tr>\n",
       "      <th>50%</th>\n",
       "      <td>8.000000</td>\n",
       "      <td>1.000000</td>\n",
       "      <td>4.000000</td>\n",
       "      <td>3.000000</td>\n",
       "      <td>21.000000</td>\n",
       "      <td>0.000000</td>\n",
       "      <td>0.000000</td>\n",
       "      <td>8.000000</td>\n",
       "      <td>19.000000</td>\n",
       "      <td>7.000000</td>\n",
       "      <td>9.000000</td>\n",
       "      <td>9.000000</td>\n",
       "    </tr>\n",
       "    <tr>\n",
       "      <th>75%</th>\n",
       "      <td>11.000000</td>\n",
       "      <td>2.000000</td>\n",
       "      <td>9.000000</td>\n",
       "      <td>4.000000</td>\n",
       "      <td>27.000000</td>\n",
       "      <td>1.000000</td>\n",
       "      <td>0.000000</td>\n",
       "      <td>12.000000</td>\n",
       "      <td>26.000000</td>\n",
       "      <td>10.000000</td>\n",
       "      <td>14.000000</td>\n",
       "      <td>28.750000</td>\n",
       "    </tr>\n",
       "    <tr>\n",
       "      <th>max</th>\n",
       "      <td>25.000000</td>\n",
       "      <td>12.000000</td>\n",
       "      <td>297.000000</td>\n",
       "      <td>22.000000</td>\n",
       "      <td>232.000000</td>\n",
       "      <td>11.000000</td>\n",
       "      <td>2.000000</td>\n",
       "      <td>49.000000</td>\n",
       "      <td>53.000000</td>\n",
       "      <td>239.000000</td>\n",
       "      <td>91.000000</td>\n",
       "      <td>735.000000</td>\n",
       "    </tr>\n",
       "  </tbody>\n",
       "</table>\n",
       "</div>"
      ],
      "text/plain": [
       "                A           B           C           D           E           F  \\\n",
       "count  282.000000  282.000000  282.000000  282.000000  282.000000  282.000000   \n",
       "mean     8.741135    1.599291   11.099291    3.450355   24.812057    0.585106   \n",
       "std      4.403211    1.589243   28.211909    3.562260   24.315910    1.094238   \n",
       "min      0.000000    0.000000    0.000000    0.000000    2.000000    0.000000   \n",
       "25%      6.000000    1.000000    1.000000    1.000000   14.000000    0.000000   \n",
       "50%      8.000000    1.000000    4.000000    3.000000   21.000000    0.000000   \n",
       "75%     11.000000    2.000000    9.000000    4.000000   27.000000    1.000000   \n",
       "max     25.000000   12.000000  297.000000   22.000000  232.000000   11.000000   \n",
       "\n",
       "                G           H           I           J           K  Total_count  \n",
       "count  282.000000  282.000000  282.000000  282.000000  282.000000   282.000000  \n",
       "mean     0.265957    9.542553   20.177305   10.528369   11.691489    34.312057  \n",
       "std      0.556595    7.052419    9.279974   19.648900   10.061759    78.347536  \n",
       "min      0.000000    0.000000    2.000000    0.000000    0.000000     0.000000  \n",
       "25%      0.000000    4.000000   14.000000    4.000000    6.000000     4.000000  \n",
       "50%      0.000000    8.000000   19.000000    7.000000    9.000000     9.000000  \n",
       "75%      0.000000   12.000000   26.000000   10.000000   14.000000    28.750000  \n",
       "max      2.000000   49.000000   53.000000  239.000000   91.000000   735.000000  "
      ]
     },
     "execution_count": 4,
     "metadata": {},
     "output_type": "execute_result"
    }
   ],
   "source": [
    "train.describe()"
   ]
  },
  {
   "cell_type": "code",
   "execution_count": 5,
   "metadata": {
    "ExecuteTime": {
     "end_time": "2019-09-12T10:34:20.257935Z",
     "start_time": "2019-09-12T10:34:19.867586Z"
    }
   },
   "outputs": [
    {
     "data": {
      "text/plain": [
       "<matplotlib.axes._subplots.AxesSubplot at 0x28709059b70>"
      ]
     },
     "execution_count": 5,
     "metadata": {},
     "output_type": "execute_result"
    },
    {
     "data": {
      "image/png": "[encoded data removed]",
      "text/plain": [
       "<Figure size 720x504 with 1 Axes>"
      ]
     },
     "metadata": {
      "needs_background": "light"
     },
     "output_type": "display_data"
    }
   ],
   "source": [
    "# Checking the distribution of the target variable \n",
    "\n",
    "\n",
    "plt.figure(figsize=(10, 7))\n",
    "sns.distplot(train['Total_count'], color = \"green\")\n",
    "\n"
   ]
  },
  {
   "cell_type": "code",
   "execution_count": 6,
   "metadata": {
    "ExecuteTime": {
     "end_time": "2019-09-12T10:34:20.596550Z",
     "start_time": "2019-09-12T10:34:20.260915Z"
    }
   },
   "outputs": [
    {
     "data": {
      "text/plain": [
       "<matplotlib.axes._subplots.AxesSubplot at 0x287092edf98>"
      ]
     },
     "execution_count": 6,
     "metadata": {},
     "output_type": "execute_result"
    },
    {
     "data": {
      "image/png": "[encoded data removed]",
      "text/plain": [
       "<Figure size 720x504 with 2 Axes>"
      ]
     },
     "metadata": {
      "needs_background": "light"
     },
     "output_type": "display_data"
    }
   ],
   "source": [
    "# Plotting the correlation of numeric data\n",
    "\n",
    "correlation = train.corr()\n",
    "plt.figure(figsize=(10, 7))\n",
    "sns.heatmap(correlation)"
   ]
  },
  {
   "cell_type": "code",
   "execution_count": 7,
   "metadata": {
    "ExecuteTime": {
     "end_time": "2019-09-12T10:34:20.618344Z",
     "start_time": "2019-09-12T10:34:20.599495Z"
    }
   },
   "outputs": [
    {
     "name": "stdout",
     "output_type": "stream",
     "text": [
      "Total_count    1.000000\n",
      "E              0.767355\n",
      "C              0.725285\n",
      "J              0.709571\n",
      "K              0.657957\n",
      "D              0.535609\n",
      "H              0.451311\n",
      "F              0.432642\n",
      "I              0.336724\n",
      "G              0.226591\n",
      "A              0.146708\n",
      "B              0.130594\n",
      "Name: Total_count, dtype: float64 \n",
      "\n"
     ]
    }
   ],
   "source": [
    "# Let's check the numeric correlation\n",
    "\n",
    "print(correlation['Total_count'].sort_values(ascending=False), '\\n') # top 15 values"
   ]
  },
  {
   "cell_type": "code",
   "execution_count": 8,
   "metadata": {
    "ExecuteTime": {
     "end_time": "2019-09-12T10:34:20.647120Z",
     "start_time": "2019-09-12T10:34:20.628263Z"
    }
   },
   "outputs": [
    {
     "data": {
      "text/plain": [
       "array([ 55.,  43.,  32.,  59.,  58.,  61.,  57.,  35.,  46.,  42.,  27.,\n",
       "        39.,  34.,  36.,  28.,  37.,  24.,  21.,  19.,  17.,  22.,  26.,\n",
       "        29.,  41.,  49.,  45., 100.,  30.,  88., 210., 232., 204., 116.,\n",
       "        50.,  48.,  25.,  18.,  23.,  31.,  20.,  12.,  10.,   9.,  15.,\n",
       "        11.,  14.,   6.,  16.,  44.,  33.,  13.,   5.,   7.,  40.,   8.,\n",
       "         4.,   2.,   3.])"
      ]
     },
     "execution_count": 8,
     "metadata": {},
     "output_type": "execute_result"
    }
   ],
   "source": [
    "train['E'].unique()"
   ]
  },
  {
   "cell_type": "code",
   "execution_count": 9,
   "metadata": {
    "ExecuteTime": {
     "end_time": "2019-09-12T10:34:20.685313Z",
     "start_time": "2019-09-12T10:34:20.652567Z"
    }
   },
   "outputs": [
    {
     "name": "stdout",
     "output_type": "stream",
     "text": [
      "       Total_count\n",
      "E                 \n",
      "2.0           14.0\n",
      "3.0            5.0\n",
      "4.0            8.0\n",
      "5.0            1.0\n",
      "6.0           10.0\n",
      "7.0            7.0\n",
      "8.0            8.5\n",
      "9.0           27.0\n",
      "10.0           6.0\n",
      "11.0           4.0\n",
      "12.0           8.0\n",
      "13.0           5.0\n",
      "14.0           5.0\n",
      "15.0           5.0\n",
      "16.0           5.5\n",
      "17.0           4.0\n",
      "18.0           5.0\n",
      "19.0           6.0\n",
      "20.0           7.0\n",
      "21.0          17.0\n",
      "22.0           7.5\n",
      "23.0           9.5\n",
      "24.0          11.0\n",
      "25.0          11.5\n",
      "26.0          19.0\n",
      "27.0           8.0\n",
      "28.0          25.0\n",
      "29.0          14.0\n",
      "30.0          33.5\n",
      "31.0          40.5\n",
      "32.0          17.0\n",
      "33.0           0.0\n",
      "34.0           9.0\n",
      "35.0          27.0\n",
      "36.0           3.0\n",
      "37.0           3.0\n",
      "39.0          11.0\n",
      "40.0           3.0\n",
      "41.0          59.0\n",
      "42.0          25.0\n",
      "43.0          25.0\n",
      "44.0           8.0\n",
      "45.0          73.0\n",
      "46.0          38.5\n",
      "48.0          66.0\n",
      "49.0          17.0\n",
      "50.0         115.0\n",
      "55.0           9.0\n",
      "57.0          35.0\n",
      "58.0         115.0\n",
      "59.0          51.0\n",
      "61.0          65.0\n",
      "88.0          89.0\n",
      "100.0        108.0\n",
      "116.0        427.0\n",
      "204.0        704.0\n",
      "210.0        382.0\n",
      "232.0        735.0\n"
     ]
    }
   ],
   "source": [
    "# Cheaking the mean price for every quality \n",
    "\n",
    "pivot = train.pivot_table(index='E', values='Total_count', aggfunc=np.median)\n",
    "print(pivot)"
   ]
  },
  {
   "cell_type": "code",
   "execution_count": 10,
   "metadata": {
    "ExecuteTime": {
     "end_time": "2019-09-12T10:34:22.244231Z",
     "start_time": "2019-09-12T10:34:20.692250Z"
    }
   },
   "outputs": [
    {
     "data": {
      "text/plain": [
       "<seaborn.axisgrid.JointGrid at 0x28709548780>"
      ]
     },
     "execution_count": 10,
     "metadata": {},
     "output_type": "execute_result"
    },
    {
     "data": {
      "image/png": "[encoded data removed]",
      "text/plain": [
       "<Figure size 432x432 with 3 Axes>"
      ]
     },
     "metadata": {
      "needs_background": "light"
     },
     "output_type": "display_data"
    }
   ],
   "source": [
    "sns.jointplot(x=train['E'], y=train['Total_count'])"
   ]
  },
  {
   "cell_type": "code",
   "execution_count": 11,
   "metadata": {
    "ExecuteTime": {
     "end_time": "2019-09-12T10:34:23.218374Z",
     "start_time": "2019-09-12T10:34:22.247207Z"
    }
   },
   "outputs": [
    {
     "data": {
      "text/plain": [
       "<seaborn.axisgrid.JointGrid at 0x287098107b8>"
      ]
     },
     "execution_count": 11,
     "metadata": {},
     "output_type": "execute_result"
    },
    {
     "data": {
      "image/png": "[encoded data removed]",
      "text/plain": [
       "<Figure size 432x432 with 3 Axes>"
      ]
     },
     "metadata": {
      "needs_background": "light"
     },
     "output_type": "display_data"
    }
   ],
   "source": [
    "sns.jointplot(x=train['J'], y=train['Total_count'])"
   ]
  },
  {
   "cell_type": "code",
   "execution_count": 12,
   "metadata": {
    "ExecuteTime": {
     "end_time": "2019-09-12T10:34:24.082419Z",
     "start_time": "2019-09-12T10:34:23.224823Z"
    }
   },
   "outputs": [
    {
     "data": {
      "text/plain": [
       "<seaborn.axisgrid.JointGrid at 0x2870aa18198>"
      ]
     },
     "execution_count": 12,
     "metadata": {},
     "output_type": "execute_result"
    },
    {
     "data": {
      "image/png": "[encoded data removed]",
      "text/plain": [
       "<Figure size 432x432 with 3 Axes>"
      ]
     },
     "metadata": {
      "needs_background": "light"
     },
     "output_type": "display_data"
    }
   ],
   "source": [
    "sns.jointplot(x=train['K'], y=train['Total_count'])"
   ]
  },
  {
   "cell_type": "code",
   "execution_count": 13,
   "metadata": {
    "ExecuteTime": {
     "end_time": "2019-09-12T10:34:24.096790Z",
     "start_time": "2019-09-12T10:34:24.085399Z"
    }
   },
   "outputs": [
    {
     "data": {
      "text/plain": [
       "array([[14.,  3.,  3., ..., 41., 16., 24.],\n",
       "       [13.,  0.,  3., ..., 37., 12., 19.],\n",
       "       [13.,  1.,  8., ..., 44.,  5., 31.],\n",
       "       ...,\n",
       "       [ 6.,  0.,  5., ..., 32.,  1.,  4.],\n",
       "       [ 4.,  2.,  1., ..., 17.,  2.,  6.],\n",
       "       [13.,  2.,  0., ..., 22., 14.,  2.]])"
      ]
     },
     "execution_count": 13,
     "metadata": {},
     "output_type": "execute_result"
    }
   ],
   "source": [
    "# train and test set \n",
    "\n",
    "x_train = train.iloc[ : , :-1].values\n",
    "x_train"
   ]
  },
  {
   "cell_type": "code",
   "execution_count": 14,
   "metadata": {
    "ExecuteTime": {
     "end_time": "2019-09-12T10:34:24.123079Z",
     "start_time": "2019-09-12T10:34:24.101255Z"
    }
   },
   "outputs": [
    {
     "data": {
      "text/plain": [
       "array([  9,  15,  20,  51,  51,  65,  37,  35,  22,  11,   8,   4,  11,\n",
       "        11,   3,   4,   6,   7,   3,   3,   2,   1,   3,   4,   7,   9,\n",
       "        16,  17,  17,  73,  66, 108, 115, 125,  78,  59,  57,  35,  45,\n",
       "        26,  28,  42,  89, 382, 735, 704, 427, 115,  66,  38,  12,  16,\n",
       "        32,  23,  14,   8,  13,  33,  11,   5,  15,   3,   7,  12,   7,\n",
       "         5,   1,   8,   2,   6,   4,  11,   5,   3,   7,   1,   1,   7,\n",
       "         5,   2,   6,   2,   0,   0,   0,   1,   1,   5,   3,   9,  19,\n",
       "        19,   7,  19,   9,   5,   6,  12,  18,   8,  12,  11,  11,  22,\n",
       "        60,  60,  60,  66,  89, 124, 146, 207, 182, 114,  65,  55,  35,\n",
       "        36,  14,  14,   9,   5,   8,   6,   4,   3,   5,   4,   0,   1,\n",
       "         2,   2,   0,   1,   1,   4,   9,   9,   6,  10,   8,   5,   8,\n",
       "         8,   8,   8,   7,   8,   6,  15,   7,   9,   6,  14,   8,   7,\n",
       "        11,  18,  25,  42,  80, 147, 236, 241, 212, 144,  98,  68,  45,\n",
       "        22,  22,  24,  19,  15,  12,   8,   2,   1,   3,   0,   0,   1,\n",
       "         3,   1,   3,   1,   0,   3,   1,   4,   4,   6,   2,   5,   5,\n",
       "         3,   3,   1,   8,   8,  10,   5,  11,   9,   6,  12,  15,  11,\n",
       "        10,  27,  45,  34,  79,  86, 134, 139, 158, 143, 106,  73,  42,\n",
       "        32,  17,  21,  18,   3,   5,   4,   7,   2,   2,   4,   0,   0,\n",
       "         0,   0,   1,   1,   6,   2,   4,   6,   5,  10,   5,   5,   2,\n",
       "         7,   2,   1,   8,   5,   5,   4,   3,  13,   8,  10,  10,  14,\n",
       "        17,  11,  15,  19,  32,  75,  91, 129, 119,  93,  51,  37,  29,\n",
       "        21,  15,   8,  14,   5,  12,  11,  10,   1], dtype=int64)"
      ]
     },
     "execution_count": 14,
     "metadata": {},
     "output_type": "execute_result"
    }
   ],
   "source": [
    "y_train = train.iloc[ :, 11].values\n",
    "y_train"
   ]
  },
  {
   "cell_type": "code",
   "execution_count": 15,
   "metadata": {
    "ExecuteTime": {
     "end_time": "2019-09-12T10:34:24.172679Z",
     "start_time": "2019-09-12T10:34:24.131015Z"
    }
   },
   "outputs": [
    {
     "data": {
      "text/html": [
       "<div>\n",
       "<style scoped>\n",
       "    .dataframe tbody tr th:only-of-type {\n",
       "        vertical-align: middle;\n",
       "    }\n",
       "\n",
       "    .dataframe tbody tr th {\n",
       "        vertical-align: top;\n",
       "    }\n",
       "\n",
       "    .dataframe thead th {\n",
       "        text-align: right;\n",
       "    }\n",
       "</style>\n",
       "<table border=\"1\" class=\"dataframe\">\n",
       "  <thead>\n",
       "    <tr style=\"text-align: right;\">\n",
       "      <th></th>\n",
       "      <th>0</th>\n",
       "      <th>1</th>\n",
       "      <th>2</th>\n",
       "      <th>3</th>\n",
       "      <th>4</th>\n",
       "      <th>5</th>\n",
       "      <th>6</th>\n",
       "      <th>7</th>\n",
       "      <th>8</th>\n",
       "      <th>9</th>\n",
       "      <th>10</th>\n",
       "    </tr>\n",
       "  </thead>\n",
       "  <tbody>\n",
       "    <tr>\n",
       "      <th>0</th>\n",
       "      <td>9.0</td>\n",
       "      <td>2.0</td>\n",
       "      <td>2.0</td>\n",
       "      <td>0.0</td>\n",
       "      <td>11.0</td>\n",
       "      <td>1.0</td>\n",
       "      <td>0.0</td>\n",
       "      <td>10.0</td>\n",
       "      <td>15.0</td>\n",
       "      <td>6.0</td>\n",
       "      <td>1.0</td>\n",
       "    </tr>\n",
       "    <tr>\n",
       "      <th>1</th>\n",
       "      <td>10.0</td>\n",
       "      <td>1.0</td>\n",
       "      <td>3.0</td>\n",
       "      <td>4.0</td>\n",
       "      <td>16.0</td>\n",
       "      <td>0.0</td>\n",
       "      <td>0.0</td>\n",
       "      <td>7.0</td>\n",
       "      <td>46.0</td>\n",
       "      <td>2.0</td>\n",
       "      <td>4.0</td>\n",
       "    </tr>\n",
       "    <tr>\n",
       "      <th>2</th>\n",
       "      <td>6.0</td>\n",
       "      <td>2.0</td>\n",
       "      <td>0.0</td>\n",
       "      <td>1.0</td>\n",
       "      <td>10.0</td>\n",
       "      <td>0.0</td>\n",
       "      <td>0.0</td>\n",
       "      <td>8.0</td>\n",
       "      <td>20.0</td>\n",
       "      <td>1.0</td>\n",
       "      <td>4.0</td>\n",
       "    </tr>\n",
       "    <tr>\n",
       "      <th>3</th>\n",
       "      <td>28.0</td>\n",
       "      <td>1.0</td>\n",
       "      <td>4.0</td>\n",
       "      <td>2.0</td>\n",
       "      <td>8.0</td>\n",
       "      <td>0.0</td>\n",
       "      <td>0.0</td>\n",
       "      <td>5.0</td>\n",
       "      <td>17.0</td>\n",
       "      <td>9.0</td>\n",
       "      <td>3.0</td>\n",
       "    </tr>\n",
       "    <tr>\n",
       "      <th>4</th>\n",
       "      <td>8.0</td>\n",
       "      <td>4.0</td>\n",
       "      <td>0.0</td>\n",
       "      <td>1.0</td>\n",
       "      <td>13.0</td>\n",
       "      <td>0.0</td>\n",
       "      <td>0.0</td>\n",
       "      <td>3.0</td>\n",
       "      <td>12.0</td>\n",
       "      <td>5.0</td>\n",
       "      <td>7.0</td>\n",
       "    </tr>\n",
       "  </tbody>\n",
       "</table>\n",
       "</div>"
      ],
      "text/plain": [
       "     0    1    2    3     4    5    6     7     8    9    10\n",
       "0   9.0  2.0  2.0  0.0  11.0  1.0  0.0  10.0  15.0  6.0  1.0\n",
       "1  10.0  1.0  3.0  4.0  16.0  0.0  0.0   7.0  46.0  2.0  4.0\n",
       "2   6.0  2.0  0.0  1.0  10.0  0.0  0.0   8.0  20.0  1.0  4.0\n",
       "3  28.0  1.0  4.0  2.0   8.0  0.0  0.0   5.0  17.0  9.0  3.0\n",
       "4   8.0  4.0  0.0  1.0  13.0  0.0  0.0   3.0  12.0  5.0  7.0"
      ]
     },
     "execution_count": 15,
     "metadata": {},
     "output_type": "execute_result"
    }
   ],
   "source": [
    "x_test = pd.read_csv(\"test_set _modified.csv\", header=None, delimiter = \";\")\n",
    "x_test.head()"
   ]
  },
  {
   "cell_type": "code",
   "execution_count": null,
   "metadata": {
    "ExecuteTime": {
     "end_time": "2019-09-12T06:57:00.719423Z",
     "start_time": "2019-09-12T06:57:00.689664Z"
    }
   },
   "outputs": [],
   "source": []
  },
  {
   "cell_type": "code",
   "execution_count": 16,
   "metadata": {
    "ExecuteTime": {
     "end_time": "2019-09-12T10:34:25.225878Z",
     "start_time": "2019-09-12T10:34:24.177146Z"
    }
   },
   "outputs": [
    {
     "data": {
      "text/plain": [
       "LinearRegression(copy_X=True, fit_intercept=True, n_jobs=None,\n",
       "         normalize=False)"
      ]
     },
     "execution_count": 16,
     "metadata": {},
     "output_type": "execute_result"
    }
   ],
   "source": [
    "from sklearn.linear_model import LinearRegression\n",
    "regressor = LinearRegression()\n",
    "regressor.fit(x_train,y_train)"
   ]
  },
  {
   "cell_type": "code",
   "execution_count": 17,
   "metadata": {
    "ExecuteTime": {
     "end_time": "2019-09-12T10:34:25.238679Z",
     "start_time": "2019-09-12T10:34:25.228664Z"
    }
   },
   "outputs": [
    {
     "data": {
      "text/plain": [
       "array([ -4.43312581, -18.67560747, -13.11161651, -19.06349124,\n",
       "         8.7326375 ,   4.31498356,  -6.37642245,  10.10966221,\n",
       "        18.5537289 ,  10.71655574,  14.53017554,   2.72615435,\n",
       "        11.53258858,   0.21963806,   2.48582637,  16.55480737,\n",
       "        10.18565526, -30.03175903,  23.18458069,  35.5286078 ,\n",
       "        23.51777093,  11.8098425 ,  22.7084063 ,  14.41711746,\n",
       "        22.054337  ,  32.95177535,  12.68196417,   5.42269227,\n",
       "         5.9934248 ,  31.37040247,  -4.68476913,  25.31001477,\n",
       "        -0.72559175,  19.51081326,  10.24227773,   9.03825757,\n",
       "        15.93766236,  48.3412076 ,  22.80496405,   0.6657855 ,\n",
       "        10.33012346,  10.33655191,  17.84396314,   5.50308659,\n",
       "         8.57112753,   6.20396636,   4.30172385,  -1.93338214,\n",
       "        17.77143231,   6.84843838,   4.51269046,   4.51269046])"
      ]
     },
     "execution_count": 17,
     "metadata": {},
     "output_type": "execute_result"
    }
   ],
   "source": [
    "y_pred = regressor.predict(x_test)\n",
    "y_pred"
   ]
  },
  {
   "cell_type": "markdown",
   "metadata": {},
   "source": [
    "# Backward Elimination"
   ]
  },
  {
   "cell_type": "code",
   "execution_count": 18,
   "metadata": {
    "ExecuteTime": {
     "end_time": "2019-09-12T10:34:25.341752Z",
     "start_time": "2019-09-12T10:34:25.242056Z"
    }
   },
   "outputs": [
    {
     "data": {
      "text/plain": [
       "array([[ 1., 14.,  3., ..., 16., 24.,  9.],\n",
       "       [ 1., 13.,  0., ..., 12., 19., 15.],\n",
       "       [ 1., 13.,  1., ...,  5., 31., 20.],\n",
       "       ...,\n",
       "       [ 1.,  6.,  0., ...,  1.,  4., 11.],\n",
       "       [ 1.,  4.,  2., ...,  2.,  6., 10.],\n",
       "       [ 1., 13.,  2., ..., 14.,  2.,  1.]])"
      ]
     },
     "execution_count": 18,
     "metadata": {},
     "output_type": "execute_result"
    }
   ],
   "source": [
    "# building the optimal model using backward elimination\n",
    "\n",
    "import statsmodels.formula.api as sm \n",
    "\n",
    "# getting the values of B0*X1 as well \n",
    "train = np.append(arr=np.ones((282,1)).astype(int),values = train,  axis = 1)\n",
    "train\n"
   ]
  },
  {
   "cell_type": "code",
   "execution_count": 19,
   "metadata": {
    "ExecuteTime": {
     "end_time": "2019-09-12T10:34:25.409703Z",
     "start_time": "2019-09-12T10:34:25.344727Z"
    }
   },
   "outputs": [
    {
     "data": {
      "text/html": [
       "<table class=\"simpletable\">\n",
       "<caption>OLS Regression Results</caption>\n",
       "<tr>\n",
       "  <th>Dep. Variable:</th>            <td>y</td>        <th>  R-squared:         </th> <td>   0.708</td>\n",
       "</tr>\n",
       "<tr>\n",
       "  <th>Model:</th>                   <td>OLS</td>       <th>  Adj. R-squared:    </th> <td>   0.702</td>\n",
       "</tr>\n",
       "<tr>\n",
       "  <th>Method:</th>             <td>Least Squares</td>  <th>  F-statistic:       </th> <td>   111.5</td>\n",
       "</tr>\n",
       "<tr>\n",
       "  <th>Date:</th>             <td>Thu, 12 Sep 2019</td> <th>  Prob (F-statistic):</th> <td>8.55e-71</td>\n",
       "</tr>\n",
       "<tr>\n",
       "  <th>Time:</th>                 <td>13:34:25</td>     <th>  Log-Likelihood:    </th> <td> -1480.8</td>\n",
       "</tr>\n",
       "<tr>\n",
       "  <th>No. Observations:</th>      <td>   282</td>      <th>  AIC:               </th> <td>   2974.</td>\n",
       "</tr>\n",
       "<tr>\n",
       "  <th>Df Residuals:</th>          <td>   276</td>      <th>  BIC:               </th> <td>   2995.</td>\n",
       "</tr>\n",
       "<tr>\n",
       "  <th>Df Model:</th>              <td>     6</td>      <th>                     </th>     <td> </td>   \n",
       "</tr>\n",
       "<tr>\n",
       "  <th>Covariance Type:</th>      <td>nonrobust</td>    <th>                     </th>     <td> </td>   \n",
       "</tr>\n",
       "</table>\n",
       "<table class=\"simpletable\">\n",
       "<tr>\n",
       "   <td></td>     <th>coef</th>     <th>std err</th>      <th>t</th>      <th>P>|t|</th>  <th>[0.025</th>    <th>0.975]</th>  \n",
       "</tr>\n",
       "<tr>\n",
       "  <th>x1</th> <td>    2.7505</td> <td>    1.101</td> <td>    2.499</td> <td> 0.013</td> <td>    0.584</td> <td>    4.917</td>\n",
       "</tr>\n",
       "<tr>\n",
       "  <th>x2</th> <td>    2.1468</td> <td>    0.282</td> <td>    7.619</td> <td> 0.000</td> <td>    1.592</td> <td>    2.702</td>\n",
       "</tr>\n",
       "<tr>\n",
       "  <th>x3</th> <td>    6.3930</td> <td>    2.934</td> <td>    2.179</td> <td> 0.030</td> <td>    0.618</td> <td>   12.168</td>\n",
       "</tr>\n",
       "<tr>\n",
       "  <th>x4</th> <td>   -1.7492</td> <td>    0.669</td> <td>   -2.613</td> <td> 0.009</td> <td>   -3.067</td> <td>   -0.432</td>\n",
       "</tr>\n",
       "<tr>\n",
       "  <th>x5</th> <td>   -1.2187</td> <td>    0.297</td> <td>   -4.109</td> <td> 0.000</td> <td>   -1.802</td> <td>   -0.635</td>\n",
       "</tr>\n",
       "<tr>\n",
       "  <th>x6</th> <td>    0.8670</td> <td>    0.250</td> <td>    3.461</td> <td> 0.001</td> <td>    0.374</td> <td>    1.360</td>\n",
       "</tr>\n",
       "</table>\n",
       "<table class=\"simpletable\">\n",
       "<tr>\n",
       "  <th>Omnibus:</th>       <td>123.480</td> <th>  Durbin-Watson:     </th> <td>   0.534</td> \n",
       "</tr>\n",
       "<tr>\n",
       "  <th>Prob(Omnibus):</th> <td> 0.000</td>  <th>  Jarque-Bera (JB):  </th> <td> 533.775</td> \n",
       "</tr>\n",
       "<tr>\n",
       "  <th>Skew:</th>          <td> 1.821</td>  <th>  Prob(JB):          </th> <td>1.24e-116</td>\n",
       "</tr>\n",
       "<tr>\n",
       "  <th>Kurtosis:</th>      <td> 8.671</td>  <th>  Cond. No.          </th> <td>    48.0</td> \n",
       "</tr>\n",
       "</table><br/><br/>Warnings:<br/>[1] Standard Errors assume that the covariance matrix of the errors is correctly specified."
      ],
      "text/plain": [
       "<class 'statsmodels.iolib.summary.Summary'>\n",
       "\"\"\"\n",
       "                            OLS Regression Results                            \n",
       "==============================================================================\n",
       "Dep. Variable:                      y   R-squared:                       0.708\n",
       "Model:                            OLS   Adj. R-squared:                  0.702\n",
       "Method:                 Least Squares   F-statistic:                     111.5\n",
       "Date:                Thu, 12 Sep 2019   Prob (F-statistic):           8.55e-71\n",
       "Time:                        13:34:25   Log-Likelihood:                -1480.8\n",
       "No. Observations:                 282   AIC:                             2974.\n",
       "Df Residuals:                     276   BIC:                             2995.\n",
       "Df Model:                           6                                         \n",
       "Covariance Type:            nonrobust                                         \n",
       "==============================================================================\n",
       "                 coef    std err          t      P>|t|      [0.025      0.975]\n",
       "------------------------------------------------------------------------------\n",
       "x1             2.7505      1.101      2.499      0.013       0.584       4.917\n",
       "x2             2.1468      0.282      7.619      0.000       1.592       2.702\n",
       "x3             6.3930      2.934      2.179      0.030       0.618      12.168\n",
       "x4            -1.7492      0.669     -2.613      0.009      -3.067      -0.432\n",
       "x5            -1.2187      0.297     -4.109      0.000      -1.802      -0.635\n",
       "x6             0.8670      0.250      3.461      0.001       0.374       1.360\n",
       "==============================================================================\n",
       "Omnibus:                      123.480   Durbin-Watson:                   0.534\n",
       "Prob(Omnibus):                  0.000   Jarque-Bera (JB):              533.775\n",
       "Skew:                           1.821   Prob(JB):                    1.24e-116\n",
       "Kurtosis:                       8.671   Cond. No.                         48.0\n",
       "==============================================================================\n",
       "\n",
       "Warnings:\n",
       "[1] Standard Errors assume that the covariance matrix of the errors is correctly specified.\n",
       "\"\"\""
      ]
     },
     "execution_count": 19,
     "metadata": {},
     "output_type": "execute_result"
    }
   ],
   "source": [
    "train_opt = train[:, [0,1,2,3,4,5,6,7,8,9,10,11]]\n",
    "regressor_OLS = sm.OLS(endog=y_train, exog=train_opt).fit()\n",
    "regressor_OLS.summary()\n",
    "\n",
    "train_opt = train[:, [0,1,4,5,6,7,8,9,10,11]]\n",
    "regressor_OLS = sm.OLS(endog=y_train, exog=train_opt).fit()\n",
    "regressor_OLS.summary()\n",
    "\n",
    "train_opt = train[:, [0,1,4,5,6,8,9,10]]\n",
    "regressor_OLS = sm.OLS(endog=y_train, exog=train_opt).fit()\n",
    "regressor_OLS.summary()\n",
    "\n",
    "train_opt = train[:, [0,4,5,6,8,9,10]]\n",
    "regressor_OLS = sm.OLS(endog=y_train, exog=train_opt).fit()\n",
    "regressor_OLS.summary()\n",
    "\n",
    "train_opt = train[:, [4,5,6,8,9,10]]\n",
    "regressor_OLS = sm.OLS(endog=y_train, exog=train_opt).fit()\n",
    "regressor_OLS.summary()"
   ]
  },
  {
   "cell_type": "code",
   "execution_count": null,
   "metadata": {},
   "outputs": [],
   "source": []
  }
 ],
 "metadata": {
  "kernelspec": {
   "display_name": "Python 3",
   "language": "python",
   "name": "python3"
  },
  "language_info": {
   "codemirror_mode": {
    "name": "ipython",
    "version": 3
   },
   "file_extension": ".py",
   "mimetype": "text/x-python",
   "name": "python",
   "nbconvert_exporter": "python",
   "pygments_lexer": "ipython3",
   "version": "3.7.3"
  },
  "toc": {
   "base_numbering": 1,
   "nav_menu": {},
   "number_sections": true,
   "sideBar": true,
   "skip_h1_title": false,
   "title_cell": "Table of Contents",
   "title_sidebar": "Contents",
   "toc_cell": false,
   "toc_position": {},
   "toc_section_display": true,
   "toc_window_display": false
  },
  "varInspector": {
   "cols": {
    "lenName": 16,
    "lenType": 16,
    "lenVar": 40
   },
   "kernels_config": {
    "python": {
     "delete_cmd_postfix": "",
     "delete_cmd_prefix": "del ",
     "library": "var_list.py",
     "varRefreshCmd": "print(var_dic_list())"
    },
    "r": {
     "delete_cmd_postfix": ") ",
     "delete_cmd_prefix": "rm(",
     "library": "var_list.r",
     "varRefreshCmd": "cat(var_dic_list()) "
    }
   },
   "types_to_exclude": [
    "module",
    "function",
    "builtin_function_or_method",
    "instance",
    "_Feature"
   ],
   "window_display": false
  }
 },
 "nbformat": 4,
 "nbformat_minor": 2
}
