{
 "cells": [
  {
   "cell_type": "code",
   "execution_count": 1,
   "metadata": {
    "ExecuteTime": {
     "end_time": "2019-10-08T11:18:50.721843Z",
     "start_time": "2019-10-08T11:18:50.707424Z"
    }
   },
   "outputs": [
    {
     "data": {
      "text/plain": [
       "\"\\n\\nIn this tutorial, we're going to learn how to use the YAML library in Python 3.7\\nYAML stands for Yet Another Markup Language.\\n\\nGoal:\\n    To present the data in more human readable way\\n\\nInstallation: \\n    pip install pyyaml\\n\\n\\n\""
      ]
     },
     "execution_count": 1,
     "metadata": {},
     "output_type": "execute_result"
    }
   ],
   "source": [
    "'''\n",
    "\n",
    "In this tutorial, we're going to learn how to use the YAML library in Python 3.7\n",
    "YAML stands for Yet Another Markup Language.\n",
    "\n",
    "Goal:\n",
    "    To present the data in more human readable way\n",
    "\n",
    "Installation: \n",
    "    pip install pyyaml\n",
    "\n",
    "\n",
    "'''"
   ]
  },
  {
   "cell_type": "code",
   "execution_count": 2,
   "metadata": {
    "ExecuteTime": {
     "end_time": "2019-10-08T11:18:50.804647Z",
     "start_time": "2019-10-08T11:18:50.725280Z"
    }
   },
   "outputs": [],
   "source": [
    "# Importing the libraries\n",
    "\n",
    "import yaml"
   ]
  },
  {
   "cell_type": "markdown",
   "metadata": {},
   "source": [
    "# Unstractured data to structured data"
   ]
  },
  {
   "cell_type": "code",
   "execution_count": 3,
   "metadata": {
    "ExecuteTime": {
     "end_time": "2019-10-08T11:18:50.816544Z",
     "start_time": "2019-10-08T11:18:50.809107Z"
    }
   },
   "outputs": [],
   "source": [
    "# The variable named data is storing a complex dictionary \n",
    "\n",
    "data = { 'Name': 'Anik Barua',\n",
    "         'Age': '26',\n",
    "         'Interests': {'Travelling': '50 countries',\n",
    "                       'Volunteering': 'to help humans and nature',\n",
    "                       'AI applications': 'the legendary app'},\n",
    "         'Languages': { 'Programming': ['Python', 'Java', 'C', 'VHDL'], \n",
    "                        'Speaking' : ['English', 'Bengali', 'Finnish']}\n",
    "        }"
   ]
  },
  {
   "cell_type": "code",
   "execution_count": 4,
   "metadata": {
    "ExecuteTime": {
     "end_time": "2019-10-08T11:18:50.842832Z",
     "start_time": "2019-10-08T11:18:50.820513Z"
    }
   },
   "outputs": [
    {
     "data": {
      "text/plain": [
       "{'Name': 'Anik Barua',\n",
       " 'Age': '26',\n",
       " 'Interests': {'Travelling': '50 countries',\n",
       "  'Volunteering': 'to help humans and nature',\n",
       "  'AI applications': 'the legendary app'},\n",
       " 'Languages': {'Programming': ['Python', 'Java', 'C', 'VHDL'],\n",
       "  'Speaking': ['English', 'Bengali', 'Finnish']}}"
      ]
     },
     "execution_count": 4,
     "metadata": {},
     "output_type": "execute_result"
    }
   ],
   "source": [
    "data # we get a json structure \n"
   ]
  },
  {
   "cell_type": "code",
   "execution_count": 5,
   "metadata": {
    "ExecuteTime": {
     "end_time": "2019-10-08T11:18:50.857724Z",
     "start_time": "2019-10-08T11:18:50.847857Z"
    }
   },
   "outputs": [
    {
     "data": {
      "text/plain": [
       "dict"
      ]
     },
     "execution_count": 5,
     "metadata": {},
     "output_type": "execute_result"
    }
   ],
   "source": [
    "type(data)  #checking the type "
   ]
  },
  {
   "cell_type": "code",
   "execution_count": 6,
   "metadata": {
    "ExecuteTime": {
     "end_time": "2019-10-08T11:18:50.880528Z",
     "start_time": "2019-10-08T11:18:50.860688Z"
    }
   },
   "outputs": [
    {
     "data": {
      "text/plain": [
       "\"Age: '26'\\nInterests:\\n  AI applications: the legendary app\\n  Travelling: 50 countries\\n  Volunteering: to help humans and nature\\nLanguages:\\n  Programming:\\n  - Python\\n  - Java\\n  - C\\n  - VHDL\\n  Speaking:\\n  - English\\n  - Bengali\\n  - Finnish\\nName: Anik Barua\\n\""
      ]
     },
     "execution_count": 6,
     "metadata": {},
     "output_type": "execute_result"
    }
   ],
   "source": [
    "# dumping the data using YAML\n",
    "\n",
    "yaml.dump(data)"
   ]
  },
  {
   "cell_type": "code",
   "execution_count": 7,
   "metadata": {
    "ExecuteTime": {
     "end_time": "2019-10-08T11:18:50.913266Z",
     "start_time": "2019-10-08T11:18:50.883008Z"
    }
   },
   "outputs": [
    {
     "name": "stdout",
     "output_type": "stream",
     "text": [
      "Age: '26'\n",
      "Interests:\n",
      "  AI applications: the legendary app\n",
      "  Travelling: 50 countries\n",
      "  Volunteering: to help humans and nature\n",
      "Languages:\n",
      "  Programming:\n",
      "  - Python\n",
      "  - Java\n",
      "  - C\n",
      "  - VHDL\n",
      "  Speaking:\n",
      "  - English\n",
      "  - Bengali\n",
      "  - Finnish\n",
      "Name: Anik Barua\n",
      "\n"
     ]
    }
   ],
   "source": [
    "# Let's print the data after dumping\n",
    "# It's ssp\n",
    "\n",
    "print(yaml.dump(data))"
   ]
  },
  {
   "cell_type": "markdown",
   "metadata": {},
   "source": [
    "# String to python data structure"
   ]
  },
  {
   "cell_type": "code",
   "execution_count": 8,
   "metadata": {
    "ExecuteTime": {
     "end_time": "2019-10-08T11:18:50.922193Z",
     "start_time": "2019-10-08T11:18:50.918225Z"
    }
   },
   "outputs": [],
   "source": [
    "text_data =  '''\n",
    "\n",
    "Age: '26'\n",
    "Interests:\n",
    "  AI applications: the legendary app\n",
    "  Travelling: 50 countries\n",
    "  Volunteering: to help humans and nature\n",
    "Languages:\n",
    "  Programming:\n",
    "  - Python\n",
    "  - Java\n",
    "  - C\n",
    "  - VHDL\n",
    "  Speaking:\n",
    "  - English\n",
    "  - Bengali\n",
    "  - Finnish\n",
    "\n",
    "'''\n",
    "\n"
   ]
  },
  {
   "cell_type": "code",
   "execution_count": 9,
   "metadata": {
    "ExecuteTime": {
     "end_time": "2019-10-08T11:18:50.941041Z",
     "start_time": "2019-10-08T11:18:50.928146Z"
    }
   },
   "outputs": [],
   "source": [
    "# Conversion from the text\n",
    "\n"
   ]
  },
  {
   "cell_type": "code",
   "execution_count": 10,
   "metadata": {
    "ExecuteTime": {
     "end_time": "2019-10-08T11:18:50.963363Z",
     "start_time": "2019-10-08T11:18:50.945011Z"
    }
   },
   "outputs": [
    {
     "data": {
      "text/plain": [
       "{'Age': '26',\n",
       " 'Interests': {'AI applications': 'the legendary app',\n",
       "  'Travelling': '50 countries',\n",
       "  'Volunteering': 'to help humans and nature'},\n",
       " 'Languages': {'Programming': ['Python', 'Java', 'C', 'VHDL'],\n",
       "  'Speaking': ['English', 'Bengali', 'Finnish']}}"
      ]
     },
     "execution_count": 10,
     "metadata": {},
     "output_type": "execute_result"
    }
   ],
   "source": [
    "yaml.load(text_data, Loader=yaml.FullLoader)"
   ]
  },
  {
   "cell_type": "code",
   "execution_count": 4,
   "metadata": {
    "ExecuteTime": {
     "end_time": "2019-10-08T16:22:20.620416Z",
     "start_time": "2019-10-08T16:22:20.612482Z"
    },
    "scrolled": true
   },
   "outputs": [
    {
     "name": "stdout",
     "output_type": "stream",
     "text": [
      "{'URLs': ['www.google.com', 'www.example.com']}\n",
      "www.google.com\n",
      "www.example.com\n"
     ]
    }
   ],
   "source": [
    "# path:  C:\\Users\\Anik Barua\\YAML_program\\anik.yaml\n",
    "\n",
    "import yaml\n",
    "\n",
    "#test 1:\n",
    "\n",
    "\n",
    "with open(r'C:\\Users\\Anik Barua\\YAML_program\\anik.yaml') as file:\n",
    "    doc = yaml.load(file, Loader=yaml.FullLoader)\n",
    "    print(doc)\n",
    "    \n",
    "    urls = doc.get('URLs')\n",
    "    \n",
    "    for url in urls: \n",
    "        print(url)\n",
    "            \n",
    "        \n",
    "\n",
    "    "
   ]
  },
  {
   "cell_type": "code",
   "execution_count": null,
   "metadata": {},
   "outputs": [],
   "source": []
  }
 ],
 "metadata": {
  "kernelspec": {
   "display_name": "Python 3",
   "language": "python",
   "name": "python3"
  },
  "language_info": {
   "codemirror_mode": {
    "name": "ipython",
    "version": 3
   },
   "file_extension": ".py",
   "mimetype": "text/x-python",
   "name": "python",
   "nbconvert_exporter": "python",
   "pygments_lexer": "ipython3",
   "version": "3.7.3"
  },
  "toc": {
   "base_numbering": 1,
   "nav_menu": {},
   "number_sections": true,
   "sideBar": true,
   "skip_h1_title": false,
   "title_cell": "Table of Contents",
   "title_sidebar": "Contents",
   "toc_cell": false,
   "toc_position": {},
   "toc_section_display": true,
   "toc_window_display": false
  },
  "varInspector": {
   "cols": {
    "lenName": 16,
    "lenType": 16,
    "lenVar": 40
   },
   "kernels_config": {
    "python": {
     "delete_cmd_postfix": "",
     "delete_cmd_prefix": "del ",
     "library": "var_list.py",
     "varRefreshCmd": "print(var_dic_list())"
    },
    "r": {
     "delete_cmd_postfix": ") ",
     "delete_cmd_prefix": "rm(",
     "library": "var_list.r",
     "varRefreshCmd": "cat(var_dic_list()) "
    }
   },
   "types_to_exclude": [
    "module",
    "function",
    "builtin_function_or_method",
    "instance",
    "_Feature"
   ],
   "window_display": false
  }
 },
 "nbformat": 4,
 "nbformat_minor": 2
}
